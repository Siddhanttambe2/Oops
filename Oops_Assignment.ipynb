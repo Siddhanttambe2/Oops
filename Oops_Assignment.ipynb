{
  "nbformat": 4,
  "nbformat_minor": 0,
  "metadata": {
    "colab": {
      "provenance": [],
      "authorship_tag": "ABX9TyOnZfQRKokyvuMru3GGo1qz",
      "include_colab_link": true
    },
    "kernelspec": {
      "name": "python3",
      "display_name": "Python 3"
    },
    "language_info": {
      "name": "python"
    }
  },
  "cells": [
    {
      "cell_type": "markdown",
      "metadata": {
        "id": "view-in-github",
        "colab_type": "text"
      },
      "source": [
        "<a href=\"https://colab.research.google.com/github/Siddhanttambe2/Oops/blob/main/Oops_Assignment.ipynb\" target=\"_parent\"><img src=\"https://colab.research.google.com/assets/colab-badge.svg\" alt=\"Open In Colab\"/></a>"
      ]
    },
    {
      "cell_type": "code",
      "execution_count": 6,
      "metadata": {
        "id": "LFEfAHWy-9tQ"
      },
      "outputs": [],
      "source": [
        "#Q1) What are the five key concepts of Object-Oriented Programming (OOP)?"
      ]
    },
    {
      "cell_type": "code",
      "source": [
        "#1)Bundling of data and methods that operate on the data.\n",
        "#2)Abstraction: Hiding the complexity by exposing only essential parts.\n",
        "#3)Inheritance: Deriving new classes from existing ones.\n",
        "#4)Ability to use a common interface for multiple forms.\n",
        "#5)Class and Object: Class is a blueprint; an object is an instance of a class."
      ],
      "metadata": {
        "id": "04kQwAD-_GRh"
      },
      "execution_count": 5,
      "outputs": []
    },
    {
      "cell_type": "code",
      "source": [
        "#Q2) Write a Python class for a \"Car\" with attributes for 'make', 'model', and 'year'. Include a method to display the car's information."
      ],
      "metadata": {
        "id": "YelCnp66_gqJ"
      },
      "execution_count": 7,
      "outputs": []
    },
    {
      "cell_type": "code",
      "source": [
        "class Car:\n",
        "    def __init__(self, make, model, year):\n",
        "        self.make = make\n",
        "        self.model = model\n",
        "        self.year = year\n",
        "\n",
        "    def display_info(self):\n",
        "        print(f\"Car: {self.year} {self.make} {self.model}\")\n",
        "\n",
        "car = Car('Toyota', 'Camry', 2020)\n",
        "car.display_info()\n",
        "\n"
      ],
      "metadata": {
        "colab": {
          "base_uri": "https://localhost:8080/",
          "height": 0
        },
        "id": "eVE7FglkACwB",
        "outputId": "abfe6bb1-e471-4dd4-e19b-95ce4d0c625e"
      },
      "execution_count": 13,
      "outputs": [
        {
          "output_type": "stream",
          "name": "stdout",
          "text": [
            "Car: 2020 Toyota Camry\n"
          ]
        }
      ]
    },
    {
      "cell_type": "code",
      "source": [
        "#Q3) Explain the difference between instance methods and class methods. Provide an example of each."
      ],
      "metadata": {
        "id": "xlNKM_XuAQrI"
      },
      "execution_count": 14,
      "outputs": []
    },
    {
      "cell_type": "code",
      "source": [
        "#Instance methods: Operate on an instance of the class and have access to instance attributes via self.\n",
        "#Class methods: Operate on the class itself and use cls to access class-level attributes."
      ],
      "metadata": {
        "id": "NCDuFsl-BAi8"
      },
      "execution_count": 15,
      "outputs": []
    },
    {
      "cell_type": "code",
      "source": [
        "class Person:\n",
        "    def __init__(self, name, age):\n",
        "        self.name = name\n",
        "        self.age = age\n",
        "\n",
        "    def greet(self):\n",
        "        print(\"Hello, my name is\", self.name)\n",
        "\n",
        "    def get_age(self):\n",
        "        return self.age\n",
        "\n",
        "\n",
        "person1 = Person(\"Alice\", 30)\n",
        "\n",
        "person1.greet()\n",
        "age = person1.get_age()\n",
        "print(\"Alice's age is\", age)"
      ],
      "metadata": {
        "colab": {
          "base_uri": "https://localhost:8080/",
          "height": 0
        },
        "id": "0-gxvAYbBn3k",
        "outputId": "24a7d46e-8314-4807-8da3-6f4a7e360f00"
      },
      "execution_count": 16,
      "outputs": [
        {
          "output_type": "stream",
          "name": "stdout",
          "text": [
            "Hello, my name is Alice\n",
            "Alice's age is 30\n"
          ]
        }
      ]
    },
    {
      "cell_type": "code",
      "source": [
        "class Circle:\n",
        "    pi = 3.14159\n",
        "\n",
        "    @classmethod\n",
        "    def from_radius(cls, radius):\n",
        "        return cls(radius)\n",
        "\n",
        "    def __init__(self, radius):\n",
        "        self.radius = radius\n",
        "\n",
        "    def area(self):\n",
        "        return self.pi * self.radius**2\n",
        "\n",
        "circle1 = Circle.from_radius(5)\n",
        "\n",
        "print(\"Circle's pi value:\", Circle.pi)\n",
        "area = circle1.area()\n",
        "print(\"Circle's area:\", area)"
      ],
      "metadata": {
        "colab": {
          "base_uri": "https://localhost:8080/",
          "height": 0
        },
        "id": "bF5IdTInBwAU",
        "outputId": "4449289f-3498-4e8d-9a5d-58ced5f967b2"
      },
      "execution_count": 17,
      "outputs": [
        {
          "output_type": "stream",
          "name": "stdout",
          "text": [
            "Circle's pi value: 3.14159\n",
            "Circle's area: 78.53975\n"
          ]
        }
      ]
    },
    {
      "cell_type": "code",
      "source": [
        "#Q4) How does Python implement method overloading? Give an example."
      ],
      "metadata": {
        "id": "No1KPKPGCFRY"
      },
      "execution_count": 18,
      "outputs": []
    },
    {
      "cell_type": "code",
      "source": [
        "#Python does not support method overloading directly.We achieve similar behavior by using default arguments or handling varying arguments inside the method."
      ],
      "metadata": {
        "id": "tCurU36-CtSU"
      },
      "execution_count": 19,
      "outputs": []
    },
    {
      "cell_type": "code",
      "source": [
        "class Addition:\n",
        "    def add(self, a, b=0, c=0):\n",
        "        return a + b + c\n",
        "\n",
        "obj = Addition()\n",
        "print(obj.add(5))\n",
        "print(obj.add(5, 3))\n",
        "print(obj.add(5, 3, 2))\n"
      ],
      "metadata": {
        "colab": {
          "base_uri": "https://localhost:8080/",
          "height": 0
        },
        "id": "zMhF3U1HC21V",
        "outputId": "0458ddcf-d84d-4586-8130-dfe2b32554ff"
      },
      "execution_count": 20,
      "outputs": [
        {
          "output_type": "stream",
          "name": "stdout",
          "text": [
            "5\n",
            "8\n",
            "10\n"
          ]
        }
      ]
    },
    {
      "cell_type": "code",
      "source": [
        "#Q5) What are the three types of access modifiers in Python? How are they denoted?\n",
        "\n",
        "#Public: Accessible from anywhere. Denoted with no underscores (attribute).\n",
        "#Protected: Intended for internal use, but accessible outside of the class. Denoted with a single underscore (_attribute).\n",
        "#Private: Only accessible within the class. Denoted with double underscores (__attribute)."
      ],
      "metadata": {
        "id": "7IiFyVFpC_Ho"
      },
      "execution_count": 21,
      "outputs": []
    },
    {
      "cell_type": "code",
      "source": [
        "#Q6) Describe the five types of inheritance in Python. Provide a simple example of multiple inheritance.\n",
        "\n",
        "#Types of inheritance:\n",
        "#1) Single Inheritance: Inheritance from one base class.\n",
        "#2) Multiple Inheritance: Inheritance from more than one base class.\n",
        "#3) Multilevel Inheritance: Inheritance through multiple levels.\n",
        "#4) Hierarchical Inheritance: Multiple derived classes inherit from one base class.\n",
        "#5) Hybrid Inheritance: A mix of two or more types of inheritance"
      ],
      "metadata": {
        "id": "7LoI1cpSDhs2"
      },
      "execution_count": 22,
      "outputs": []
    },
    {
      "cell_type": "code",
      "source": [
        "class Base1:\n",
        "    def method1(self):\n",
        "        return \"Method from Base1\"\n",
        "\n",
        "class Base2:\n",
        "    def method2(self):\n",
        "        return \"Method from Base2\"\n",
        "\n",
        "class Derived(Base1, Base2):\n",
        "    pass\n",
        "\n",
        "obj = Derived()\n",
        "print(obj.method1())\n",
        "print(obj.method2())\n"
      ],
      "metadata": {
        "colab": {
          "base_uri": "https://localhost:8080/",
          "height": 0
        },
        "id": "gS0FVInoD3LP",
        "outputId": "39cbed9f-575a-4392-ec9f-34d19b6d963c"
      },
      "execution_count": 23,
      "outputs": [
        {
          "output_type": "stream",
          "name": "stdout",
          "text": [
            "Method from Base1\n",
            "Method from Base2\n"
          ]
        }
      ]
    },
    {
      "cell_type": "code",
      "source": [
        "#Q7) What is the Method Resolution Order (MRO) in Python? How can you retrieve it programmatically?\n",
        "\n",
        "#MRO is the order in which Python looks for a method in a hierarchy of classes, especially in cases of multiple inheritance.\n",
        "#we can retrieve it using the mro() method."
      ],
      "metadata": {
        "id": "zPUnQjtXEChu"
      },
      "execution_count": 24,
      "outputs": []
    },
    {
      "cell_type": "code",
      "source": [
        "class A:\n",
        "    pass\n",
        "\n",
        "class B(A):\n",
        "    pass\n",
        "\n",
        "print(B.mro())"
      ],
      "metadata": {
        "colab": {
          "base_uri": "https://localhost:8080/",
          "height": 0
        },
        "id": "oS7xZcYWEYmJ",
        "outputId": "94c58e9f-7023-456f-83e3-0f13516f185a"
      },
      "execution_count": 25,
      "outputs": [
        {
          "output_type": "stream",
          "name": "stdout",
          "text": [
            "[<class '__main__.B'>, <class '__main__.A'>, <class 'object'>]\n"
          ]
        }
      ]
    },
    {
      "cell_type": "code",
      "source": [
        "#Q8) Create an abstract base class Shape with an abstract method area(). Then create two subclasses Circle and Rectangle that implement the area() method."
      ],
      "metadata": {
        "id": "pINlwOGlEcFG"
      },
      "execution_count": 26,
      "outputs": []
    },
    {
      "cell_type": "code",
      "source": [
        "from abc import ABC, abstractmethod\n",
        "\n",
        "class Shape(ABC):\n",
        "    @abstractmethod\n",
        "    def area(self):\n",
        "        pass\n",
        "\n",
        "class Circle(Shape):\n",
        "    def __init__(self, radius):\n",
        "        self.radius = radius\n",
        "\n",
        "    def area(self):\n",
        "        return 3.14159 * self.radius**2\n",
        "\n",
        "class Rectangle(Shape):\n",
        "    def __init__(self, length, width):\n",
        "        self.length = length\n",
        "        self.width = width\n",
        "\n",
        "    def area(self):\n",
        "        return self.length * self.width\n",
        "\n",
        "\n",
        "circle = Circle(5)\n",
        "rectangle = Rectangle(4, 3)\n",
        "\n",
        "print(circle.area())\n",
        "print(rectangle.area())"
      ],
      "metadata": {
        "colab": {
          "base_uri": "https://localhost:8080/",
          "height": 0
        },
        "id": "9r88-G2CEsim",
        "outputId": "4dac48af-d2b7-4446-f94c-d7cfdee1d46f"
      },
      "execution_count": 29,
      "outputs": [
        {
          "output_type": "stream",
          "name": "stdout",
          "text": [
            "78.53975\n",
            "12\n"
          ]
        }
      ]
    },
    {
      "cell_type": "code",
      "source": [
        "#Q9) Demonstrate polymorphism by creating a function that can work with different shape objects to calculate and print their areas."
      ],
      "metadata": {
        "id": "1dX35-ERFCo8"
      },
      "execution_count": 30,
      "outputs": []
    },
    {
      "cell_type": "code",
      "source": [
        "def print_area(shape):\n",
        "    print(f\"Area: {shape.area()}\")\n",
        "\n",
        "circle = Circle(5)\n",
        "rectangle = Rectangle(4, 6)\n",
        "\n",
        "print_area(circle)\n",
        "print_area(rectangle)\n"
      ],
      "metadata": {
        "colab": {
          "base_uri": "https://localhost:8080/",
          "height": 0
        },
        "id": "NMml-XM0FrA4",
        "outputId": "97998051-65fe-4ade-ef72-08874a2be3f4"
      },
      "execution_count": 32,
      "outputs": [
        {
          "output_type": "stream",
          "name": "stdout",
          "text": [
            "Area: 78.53975\n",
            "Area: 24\n"
          ]
        }
      ]
    },
    {
      "cell_type": "code",
      "source": [
        "#Q10)Implement encapsulation in a BankAccount class with private attributes for balance and account_number. Include methods for deposit, withdrawal, and balance inquiry."
      ],
      "metadata": {
        "id": "Ep7agHApFrw3"
      },
      "execution_count": 33,
      "outputs": []
    },
    {
      "cell_type": "code",
      "source": [
        "class Bank:\n",
        "\n",
        "    def __init__(self, balance):\n",
        "        self.__balance = balance\n",
        "\n",
        "    def deposit(self, amount):\n",
        "        self.__balance = self.__balance + amount\n",
        "\n",
        "    def withdraw(self, amount):\n",
        "        if self.__balance >= amount:\n",
        "            self.__balance = self.__balance - amount\n",
        "            return True\n",
        "        else:\n",
        "            return False\n",
        "\n",
        "    def get_balance(self):\n",
        "        return self.__balance"
      ],
      "metadata": {
        "id": "84_TOz2IG0Z7"
      },
      "execution_count": 34,
      "outputs": []
    },
    {
      "cell_type": "code",
      "source": [
        "acc1 = Bank(1000)"
      ],
      "metadata": {
        "id": "__TsLcf_G4h1"
      },
      "execution_count": 35,
      "outputs": []
    },
    {
      "cell_type": "code",
      "source": [
        "acc1.get_balance()"
      ],
      "metadata": {
        "colab": {
          "base_uri": "https://localhost:8080/",
          "height": 0
        },
        "id": "8j3SdhVNG9Ku",
        "outputId": "6e4d31bf-b865-4352-c117-2fc3ecc6ee3d"
      },
      "execution_count": 36,
      "outputs": [
        {
          "output_type": "execute_result",
          "data": {
            "text/plain": [
              "1000"
            ]
          },
          "metadata": {},
          "execution_count": 36
        }
      ]
    },
    {
      "cell_type": "code",
      "source": [
        "acc1.deposit(500)"
      ],
      "metadata": {
        "id": "WXiudCLBHCXm"
      },
      "execution_count": 37,
      "outputs": []
    },
    {
      "cell_type": "code",
      "source": [
        "acc1.get_balance()"
      ],
      "metadata": {
        "colab": {
          "base_uri": "https://localhost:8080/",
          "height": 0
        },
        "id": "FJmZWwuzHFxH",
        "outputId": "65f72b15-ef8b-4f89-e9e1-9d8411941477"
      },
      "execution_count": 38,
      "outputs": [
        {
          "output_type": "execute_result",
          "data": {
            "text/plain": [
              "1500"
            ]
          },
          "metadata": {},
          "execution_count": 38
        }
      ]
    },
    {
      "cell_type": "code",
      "source": [
        "acc1.withdraw(100)"
      ],
      "metadata": {
        "colab": {
          "base_uri": "https://localhost:8080/",
          "height": 0
        },
        "id": "Dr5BOq2bHKlX",
        "outputId": "d9db059e-c5dd-4638-9ade-1984c3af81d0"
      },
      "execution_count": 39,
      "outputs": [
        {
          "output_type": "execute_result",
          "data": {
            "text/plain": [
              "True"
            ]
          },
          "metadata": {},
          "execution_count": 39
        }
      ]
    },
    {
      "cell_type": "code",
      "source": [
        "acc1.get_balance()"
      ],
      "metadata": {
        "colab": {
          "base_uri": "https://localhost:8080/",
          "height": 0
        },
        "id": "Owx8V-RmHOY6",
        "outputId": "c427bb6e-b6ff-46b9-d1b3-23a1e8a5dccd"
      },
      "execution_count": 40,
      "outputs": [
        {
          "output_type": "execute_result",
          "data": {
            "text/plain": [
              "1400"
            ]
          },
          "metadata": {},
          "execution_count": 40
        }
      ]
    },
    {
      "cell_type": "code",
      "source": [
        "#11) Write a class that overrides the __str__ and __add__ magic methods. What will these methods allow you to do?"
      ],
      "metadata": {
        "id": "Jx6XjcOWHQBW"
      },
      "execution_count": 41,
      "outputs": []
    },
    {
      "cell_type": "code",
      "source": [
        "\n",
        "class Point:\n",
        "    def __init__(self, x, y):\n",
        "        self.x = x\n",
        "        self.y = y\n",
        "\n",
        "    def __str__(self):\n",
        "        return f\"Point({self.x}, {self.y})\"\n",
        "\n",
        "    def __add__(self, other):\n",
        "        return Point(self.x + other.x, self.y + other.y)\n",
        "\n",
        "p1 = Point(1, 2)\n",
        "p2 = Point(3, 4)\n",
        "print(p1 + p2)\n"
      ],
      "metadata": {
        "colab": {
          "base_uri": "https://localhost:8080/",
          "height": 0
        },
        "id": "PLFpuikJHh-D",
        "outputId": "c5a0a9a2-d02b-4498-f4ca-8a50639a04dc"
      },
      "execution_count": 42,
      "outputs": [
        {
          "output_type": "stream",
          "name": "stdout",
          "text": [
            "Point(4, 6)\n"
          ]
        }
      ]
    },
    {
      "cell_type": "code",
      "source": [
        "#Q12) Create a decorator that measures and prints the execution time of a function."
      ],
      "metadata": {
        "id": "YjpWeZqsHo_X"
      },
      "execution_count": 43,
      "outputs": []
    },
    {
      "cell_type": "code",
      "source": [
        "import time\n",
        "\n",
        "def measure_time(func):\n",
        "    def wrapper(*args, **kwargs):\n",
        "        start_time = time.time()\n",
        "        result = func(*args, **kwargs)\n",
        "        end_time = time.time()\n",
        "        elapsed_time = end_time - start_time\n",
        "        print(f\"{func.__name__} took {elapsed_time:.5f} seconds to execute.\")\n",
        "        return result\n",
        "    return wrapper\n",
        "\n",
        "\n",
        "@measure_time\n",
        "def my_function(x, y):\n",
        "    return x * y\n",
        "\n",
        "result = my_function(1000, 2000)\n",
        "print(result)"
      ],
      "metadata": {
        "colab": {
          "base_uri": "https://localhost:8080/",
          "height": 0
        },
        "id": "oF292ZCQHxfw",
        "outputId": "23c63003-a6ac-4b54-fb0d-025d3b6a5b7e"
      },
      "execution_count": 45,
      "outputs": [
        {
          "output_type": "stream",
          "name": "stdout",
          "text": [
            "my_function took 0.00000 seconds to execute.\n",
            "2000000\n"
          ]
        }
      ]
    },
    {
      "cell_type": "code",
      "source": [
        "#Q13) Explain the concept of the Diamond Problem in multiple inheritance. How does Python resolve it?\n",
        "\n",
        "#The Diamond Problem arises when a class inherits from two classes that share a common base class. This can cause ambiguity in which method to call.\n",
        "#ython resolves it using Method Resolution Order (MRO)\n"
      ],
      "metadata": {
        "id": "cPLyYw_kHyDB"
      },
      "execution_count": 46,
      "outputs": []
    },
    {
      "cell_type": "code",
      "source": [
        "#Q14) Write a class method that keeps track of the number of instances created from a class."
      ],
      "metadata": {
        "id": "R-a2_BSwIclQ"
      },
      "execution_count": 47,
      "outputs": []
    },
    {
      "cell_type": "code",
      "source": [
        "class MyClass:\n",
        "    instance_count = 0\n",
        "\n",
        "    def __init__(self):\n",
        "        MyClass.instance_count += 1\n",
        "\n",
        "    @classmethod\n",
        "    def get_instance_count(cls):\n",
        "        return cls.instance_count\n",
        "\n",
        "\n",
        "obj1 = MyClass()\n",
        "obj2 = MyClass()\n",
        "obj3 = MyClass()\n",
        "\n",
        "print(\"Number of instances created:\", MyClass.get_instance_count())"
      ],
      "metadata": {
        "colab": {
          "base_uri": "https://localhost:8080/",
          "height": 0
        },
        "id": "6eqnQkCwIf0C",
        "outputId": "92c8e584-1d27-41a3-8f14-696c39309359"
      },
      "execution_count": 48,
      "outputs": [
        {
          "output_type": "stream",
          "name": "stdout",
          "text": [
            "Number of instances created: 3\n"
          ]
        }
      ]
    },
    {
      "cell_type": "code",
      "source": [
        "#Q15) Implement a static method in a class that checks if a given year is a leap year."
      ],
      "metadata": {
        "id": "u57aK1sXIsP-"
      },
      "execution_count": 49,
      "outputs": []
    },
    {
      "cell_type": "code",
      "source": [
        "class Year():\n",
        "    @staticmethod\n",
        "    def is_leap_year(year):\n",
        "        if (year % 4 == 0 and year % 100 != 0) or (year % 400 == 0):\n",
        "            return True\n",
        "        return False\n",
        "\n",
        "year = 2024\n",
        "if Year.is_leap_year(year):\n",
        "    print(f\"{year} is a leap year.\")\n",
        "else:\n",
        "    print(f\"{year} is not a leap year.\")"
      ],
      "metadata": {
        "colab": {
          "base_uri": "https://localhost:8080/",
          "height": 0
        },
        "id": "Y1e-K-CFIzTK",
        "outputId": "f4364b6a-3cd4-4b4d-96ad-8f93d8534bfa"
      },
      "execution_count": 53,
      "outputs": [
        {
          "output_type": "stream",
          "name": "stdout",
          "text": [
            "2024 is a leap year.\n"
          ]
        }
      ]
    },
    {
      "cell_type": "code",
      "source": [],
      "metadata": {
        "id": "uA_AqvxQI1Uw"
      },
      "execution_count": null,
      "outputs": []
    }
  ]
}